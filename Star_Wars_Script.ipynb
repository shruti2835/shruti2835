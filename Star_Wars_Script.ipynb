{
  "cells": [
    {
      "cell_type": "markdown",
      "metadata": {
        "id": "view-in-github",
        "colab_type": "text"
      },
      "source": [
        "<a href=\"https://colab.research.google.com/github/shruti2835/shruti2835/blob/main/Star_Wars_Script.ipynb\" target=\"_parent\"><img src=\"https://colab.research.google.com/assets/colab-badge.svg\" alt=\"Open In Colab\"/></a>"
      ]
    },
    {
      "cell_type": "code",
      "execution_count": 2,
      "metadata": {
        "colab": {
          "base_uri": "https://localhost:8080/"
        },
        "id": "ymssYnluDTdL",
        "outputId": "071c81fb-e47c-4e86-a1c8-6d2e4102f89f"
      },
      "outputs": [
        {
          "output_type": "stream",
          "name": "stdout",
          "text": [
            "Looking in indexes: https://pypi.org/simple, https://us-python.pkg.dev/colab-wheels/public/simple/\n",
            "Collecting gpt_2_simple\n",
            "  Using cached gpt_2_simple-0.8.1.tar.gz (26 kB)\n",
            "Requirement already satisfied: tensorflow>=2.5.1 in /usr/local/lib/python3.7/dist-packages (from gpt_2_simple) (2.8.2+zzzcolab20220719082949)\n",
            "Requirement already satisfied: regex in /usr/local/lib/python3.7/dist-packages (from gpt_2_simple) (2022.6.2)\n",
            "Requirement already satisfied: requests in /usr/local/lib/python3.7/dist-packages (from gpt_2_simple) (2.23.0)\n",
            "Requirement already satisfied: tqdm in /usr/local/lib/python3.7/dist-packages (from gpt_2_simple) (4.64.0)\n",
            "Requirement already satisfied: numpy in /usr/local/lib/python3.7/dist-packages (from gpt_2_simple) (1.21.6)\n",
            "Collecting toposort\n",
            "  Using cached toposort-1.7-py2.py3-none-any.whl (9.0 kB)\n",
            "Requirement already satisfied: gast>=0.2.1 in /usr/local/lib/python3.7/dist-packages (from tensorflow>=2.5.1->gpt_2_simple) (0.5.3)\n",
            "Requirement already satisfied: keras<2.9,>=2.8.0rc0 in /usr/local/lib/python3.7/dist-packages (from tensorflow>=2.5.1->gpt_2_simple) (2.8.0)\n",
            "Requirement already satisfied: tensorflow-estimator<2.9,>=2.8 in /usr/local/lib/python3.7/dist-packages (from tensorflow>=2.5.1->gpt_2_simple) (2.8.0)\n",
            "Requirement already satisfied: wrapt>=1.11.0 in /usr/local/lib/python3.7/dist-packages (from tensorflow>=2.5.1->gpt_2_simple) (1.14.1)\n",
            "Requirement already satisfied: typing-extensions>=3.6.6 in /usr/local/lib/python3.7/dist-packages (from tensorflow>=2.5.1->gpt_2_simple) (4.1.1)\n",
            "Requirement already satisfied: opt-einsum>=2.3.2 in /usr/local/lib/python3.7/dist-packages (from tensorflow>=2.5.1->gpt_2_simple) (3.3.0)\n",
            "Requirement already satisfied: h5py>=2.9.0 in /usr/local/lib/python3.7/dist-packages (from tensorflow>=2.5.1->gpt_2_simple) (3.1.0)\n",
            "Requirement already satisfied: grpcio<2.0,>=1.24.3 in /usr/local/lib/python3.7/dist-packages (from tensorflow>=2.5.1->gpt_2_simple) (1.47.0)\n",
            "Requirement already satisfied: protobuf<3.20,>=3.9.2 in /usr/local/lib/python3.7/dist-packages (from tensorflow>=2.5.1->gpt_2_simple) (3.17.3)\n",
            "Requirement already satisfied: google-pasta>=0.1.1 in /usr/local/lib/python3.7/dist-packages (from tensorflow>=2.5.1->gpt_2_simple) (0.2.0)\n",
            "Requirement already satisfied: tensorboard<2.9,>=2.8 in /usr/local/lib/python3.7/dist-packages (from tensorflow>=2.5.1->gpt_2_simple) (2.8.0)\n",
            "Requirement already satisfied: libclang>=9.0.1 in /usr/local/lib/python3.7/dist-packages (from tensorflow>=2.5.1->gpt_2_simple) (14.0.6)\n",
            "Requirement already satisfied: termcolor>=1.1.0 in /usr/local/lib/python3.7/dist-packages (from tensorflow>=2.5.1->gpt_2_simple) (1.1.0)\n",
            "Requirement already satisfied: six>=1.12.0 in /usr/local/lib/python3.7/dist-packages (from tensorflow>=2.5.1->gpt_2_simple) (1.15.0)\n",
            "Requirement already satisfied: tensorflow-io-gcs-filesystem>=0.23.1 in /usr/local/lib/python3.7/dist-packages (from tensorflow>=2.5.1->gpt_2_simple) (0.26.0)\n",
            "Requirement already satisfied: absl-py>=0.4.0 in /usr/local/lib/python3.7/dist-packages (from tensorflow>=2.5.1->gpt_2_simple) (1.2.0)\n",
            "Requirement already satisfied: flatbuffers>=1.12 in /usr/local/lib/python3.7/dist-packages (from tensorflow>=2.5.1->gpt_2_simple) (2.0.7)\n",
            "Requirement already satisfied: astunparse>=1.6.0 in /usr/local/lib/python3.7/dist-packages (from tensorflow>=2.5.1->gpt_2_simple) (1.6.3)\n",
            "Requirement already satisfied: keras-preprocessing>=1.1.1 in /usr/local/lib/python3.7/dist-packages (from tensorflow>=2.5.1->gpt_2_simple) (1.1.2)\n",
            "Requirement already satisfied: setuptools in /usr/local/lib/python3.7/dist-packages (from tensorflow>=2.5.1->gpt_2_simple) (57.4.0)\n",
            "Requirement already satisfied: wheel<1.0,>=0.23.0 in /usr/local/lib/python3.7/dist-packages (from astunparse>=1.6.0->tensorflow>=2.5.1->gpt_2_simple) (0.37.1)\n",
            "Requirement already satisfied: cached-property in /usr/local/lib/python3.7/dist-packages (from h5py>=2.9.0->tensorflow>=2.5.1->gpt_2_simple) (1.5.2)\n",
            "Requirement already satisfied: google-auth-oauthlib<0.5,>=0.4.1 in /usr/local/lib/python3.7/dist-packages (from tensorboard<2.9,>=2.8->tensorflow>=2.5.1->gpt_2_simple) (0.4.6)\n",
            "Requirement already satisfied: tensorboard-data-server<0.7.0,>=0.6.0 in /usr/local/lib/python3.7/dist-packages (from tensorboard<2.9,>=2.8->tensorflow>=2.5.1->gpt_2_simple) (0.6.1)\n",
            "Requirement already satisfied: tensorboard-plugin-wit>=1.6.0 in /usr/local/lib/python3.7/dist-packages (from tensorboard<2.9,>=2.8->tensorflow>=2.5.1->gpt_2_simple) (1.8.1)\n",
            "Requirement already satisfied: google-auth<3,>=1.6.3 in /usr/local/lib/python3.7/dist-packages (from tensorboard<2.9,>=2.8->tensorflow>=2.5.1->gpt_2_simple) (1.35.0)\n",
            "Requirement already satisfied: markdown>=2.6.8 in /usr/local/lib/python3.7/dist-packages (from tensorboard<2.9,>=2.8->tensorflow>=2.5.1->gpt_2_simple) (3.4.1)\n",
            "Requirement already satisfied: werkzeug>=0.11.15 in /usr/local/lib/python3.7/dist-packages (from tensorboard<2.9,>=2.8->tensorflow>=2.5.1->gpt_2_simple) (1.0.1)\n",
            "Requirement already satisfied: rsa<5,>=3.1.4 in /usr/local/lib/python3.7/dist-packages (from google-auth<3,>=1.6.3->tensorboard<2.9,>=2.8->tensorflow>=2.5.1->gpt_2_simple) (4.9)\n",
            "Requirement already satisfied: cachetools<5.0,>=2.0.0 in /usr/local/lib/python3.7/dist-packages (from google-auth<3,>=1.6.3->tensorboard<2.9,>=2.8->tensorflow>=2.5.1->gpt_2_simple) (4.2.4)\n",
            "Requirement already satisfied: pyasn1-modules>=0.2.1 in /usr/local/lib/python3.7/dist-packages (from google-auth<3,>=1.6.3->tensorboard<2.9,>=2.8->tensorflow>=2.5.1->gpt_2_simple) (0.2.8)\n",
            "Requirement already satisfied: requests-oauthlib>=0.7.0 in /usr/local/lib/python3.7/dist-packages (from google-auth-oauthlib<0.5,>=0.4.1->tensorboard<2.9,>=2.8->tensorflow>=2.5.1->gpt_2_simple) (1.3.1)\n",
            "Requirement already satisfied: importlib-metadata>=4.4 in /usr/local/lib/python3.7/dist-packages (from markdown>=2.6.8->tensorboard<2.9,>=2.8->tensorflow>=2.5.1->gpt_2_simple) (4.12.0)\n",
            "Requirement already satisfied: zipp>=0.5 in /usr/local/lib/python3.7/dist-packages (from importlib-metadata>=4.4->markdown>=2.6.8->tensorboard<2.9,>=2.8->tensorflow>=2.5.1->gpt_2_simple) (3.8.1)\n",
            "Requirement already satisfied: pyasn1<0.5.0,>=0.4.6 in /usr/local/lib/python3.7/dist-packages (from pyasn1-modules>=0.2.1->google-auth<3,>=1.6.3->tensorboard<2.9,>=2.8->tensorflow>=2.5.1->gpt_2_simple) (0.4.8)\n",
            "Requirement already satisfied: idna<3,>=2.5 in /usr/local/lib/python3.7/dist-packages (from requests->gpt_2_simple) (2.10)\n",
            "Requirement already satisfied: chardet<4,>=3.0.2 in /usr/local/lib/python3.7/dist-packages (from requests->gpt_2_simple) (3.0.4)\n",
            "Requirement already satisfied: urllib3!=1.25.0,!=1.25.1,<1.26,>=1.21.1 in /usr/local/lib/python3.7/dist-packages (from requests->gpt_2_simple) (1.24.3)\n",
            "Requirement already satisfied: certifi>=2017.4.17 in /usr/local/lib/python3.7/dist-packages (from requests->gpt_2_simple) (2022.6.15)\n",
            "Requirement already satisfied: oauthlib>=3.0.0 in /usr/local/lib/python3.7/dist-packages (from requests-oauthlib>=0.7.0->google-auth-oauthlib<0.5,>=0.4.1->tensorboard<2.9,>=2.8->tensorflow>=2.5.1->gpt_2_simple) (3.2.0)\n",
            "Building wheels for collected packages: gpt-2-simple\n",
            "  Building wheel for gpt-2-simple (setup.py) ... \u001b[?25l\u001b[?25hdone\n",
            "  Created wheel for gpt-2-simple: filename=gpt_2_simple-0.8.1-py3-none-any.whl size=24576 sha256=2d5f2a9f37b0ed6d8e21cba6e8a2c4b7ff09866f104ad398111f2ca1ffd948ae\n",
            "  Stored in directory: /root/.cache/pip/wheels/d6/89/8a/f5de6944286d1ac2658b0caa7eae3c8cda50f770cdc957217f\n",
            "Successfully built gpt-2-simple\n",
            "Installing collected packages: toposort, gpt-2-simple\n",
            "Successfully installed gpt-2-simple-0.8.1 toposort-1.7\n"
          ]
        }
      ],
      "source": [
        "!pip install gpt_2_simple"
      ]
    },
    {
      "cell_type": "code",
      "execution_count": 13,
      "metadata": {
        "id": "vZ2Yxpg3Dmm6"
      },
      "outputs": [],
      "source": [
        "import gpt_2_simple as gpt2\n",
        "import tensorflow as tf\n",
        "import pandas as pd"
      ]
    },
    {
      "cell_type": "code",
      "execution_count": 4,
      "metadata": {
        "colab": {
          "base_uri": "https://localhost:8080/"
        },
        "id": "06sEY5xED2ee",
        "outputId": "87d52657-1d2e-42fb-b4ad-97884ae155ae"
      },
      "outputs": [
        {
          "output_type": "stream",
          "name": "stderr",
          "text": [
            "Fetching checkpoint: 1.05Mit [00:00, 430Mit/s]                                                      \n",
            "Fetching encoder.json: 1.05Mit [00:00, 2.69Mit/s]\n",
            "Fetching hparams.json: 1.05Mit [00:00, 523Mit/s]                                                    \n",
            "Fetching model.ckpt.data-00000-of-00001: 498Mit [00:16, 30.7Mit/s]                                  \n",
            "Fetching model.ckpt.index: 1.05Mit [00:00, 188Mit/s]                                                \n",
            "Fetching model.ckpt.meta: 1.05Mit [00:00, 3.67Mit/s]\n",
            "Fetching vocab.bpe: 1.05Mit [00:00, 3.92Mit/s]\n"
          ]
        }
      ],
      "source": [
        "gpt2.download_gpt2(model_name='124M')"
      ]
    },
    {
      "cell_type": "code",
      "execution_count": 5,
      "metadata": {
        "id": "gBGxqBXxD5AG"
      },
      "outputs": [],
      "source": [
        "#Data Preprocessing\n",
        "def TextToString(txt):\n",
        "    with open (txt, \"r\") as file:\n",
        "        data=file.readlines()\n",
        "        script = \"\"\n",
        "        for x in data[1:-1]:\n",
        "            x = x.lower().replace('\"','').replace(\"\\n\",\" \\n \").split(' ')\n",
        "            x[1] += \":\"\n",
        "            script += \" \".join(x[1:-1]).replace(\"\\n\",\" \\n \")\n",
        "        return script"
      ]
    },
    {
      "cell_type": "code",
      "source": [
        "#file_name= 'SW_EpisodeVI.txt'"
      ],
      "metadata": {
        "id": "wK8lCuJ3TMJS"
      },
      "execution_count": 18,
      "outputs": []
    },
    {
      "cell_type": "code",
      "source": [
        "filenames = [\"/content/SW_EpisodeIV.txt\", \"/content/SW_EpisodeV.txt\", \"/content/SW_EpisodeVI.txt\"]\n",
        "\n",
        "with open(\"output_file.txt\", \"w\") as outfile:\n",
        "    for filename in filenames:\n",
        "        with open(filename) as infile:\n",
        "            contents = infile.read()\n",
        "            outfile.write(contents)"
      ],
      "metadata": {
        "id": "0BFHAtt_dP6A"
      },
      "execution_count": 22,
      "outputs": []
    },
    {
      "cell_type": "code",
      "source": [
        "file_name= 'output_file.txt'"
      ],
      "metadata": {
        "id": "Wbf5VJopdqDm"
      },
      "execution_count": 23,
      "outputs": []
    },
    {
      "cell_type": "code",
      "source": [
        "#file_name= 'star_wars.txt'\n",
        "file_name"
      ],
      "metadata": {
        "colab": {
          "base_uri": "https://localhost:8080/",
          "height": 35
        },
        "id": "ff8FPLSHVD2z",
        "outputId": "64194efc-6b98-4c30-d98c-b84a1cc232a0"
      },
      "execution_count": 24,
      "outputs": [
        {
          "output_type": "execute_result",
          "data": {
            "text/plain": [
              "'output_file.txt'"
            ],
            "application/vnd.google.colaboratory.intrinsic+json": {
              "type": "string"
            }
          },
          "metadata": {},
          "execution_count": 24
        }
      ]
    },
    {
      "cell_type": "code",
      "execution_count": 25,
      "metadata": {
        "id": "rFsjPEOX-_eA"
      },
      "outputs": [],
      "source": [
        "prep_text=\" \"\n",
        "prep_text+=TextToString('output_file.txt')\n"
      ]
    },
    {
      "cell_type": "code",
      "execution_count": 26,
      "metadata": {
        "id": "aFrjEKUO-_Vv",
        "colab": {
          "base_uri": "https://localhost:8080/"
        },
        "outputId": "59545e3e-2d7a-4ebb-fa6a-e08d017367eb"
      },
      "outputs": [
        {
          "output_type": "stream",
          "name": "stdout",
          "text": [
            "Loading checkpoint models/124M/model.ckpt\n",
            "Loading dataset...\n"
          ]
        },
        {
          "output_type": "stream",
          "name": "stderr",
          "text": [
            "100%|██████████| 1/1 [00:00<00:00,  3.09it/s]\n"
          ]
        },
        {
          "output_type": "stream",
          "name": "stdout",
          "text": [
            "dataset has 61329 tokens\n",
            "Training...\n",
            "[10 | 27.94] loss=2.16 avg=2.16\n",
            "[20 | 52.96] loss=2.26 avg=2.21\n",
            "[30 | 76.81] loss=2.05 avg=2.16\n",
            "[40 | 100.66] loss=2.06 avg=2.13\n",
            "[50 | 125.14] loss=2.04 avg=2.12\n",
            "[60 | 149.50] loss=2.04 avg=2.10\n",
            "[70 | 173.57] loss=1.85 avg=2.07\n",
            "[80 | 197.64] loss=2.11 avg=2.07\n",
            "[90 | 221.93] loss=1.94 avg=2.06\n",
            "[100 | 246.23] loss=1.90 avg=2.04\n",
            "[110 | 270.41] loss=1.77 avg=2.01\n",
            "[120 | 294.55] loss=1.77 avg=1.99\n",
            "[130 | 318.65] loss=1.79 avg=1.98\n",
            "[140 | 342.78] loss=1.75 avg=1.96\n",
            "[150 | 366.96] loss=1.71 avg=1.94\n",
            "[160 | 391.12] loss=1.75 avg=1.93\n",
            "[170 | 415.29] loss=1.60 avg=1.91\n",
            "[180 | 439.45] loss=1.66 avg=1.89\n",
            "[190 | 463.63] loss=1.73 avg=1.88\n",
            "[200 | 487.83] loss=1.81 avg=1.88\n",
            "Saving checkpoint/run1/model-200\n"
          ]
        }
      ],
      "source": [
        "tf.compat.v1.reset_default_graph()\n",
        "sess = gpt2.start_tf_sess()\n",
        "\n",
        "gpt2.finetune(sess,\n",
        "              dataset=file_name,\n",
        "              model_name='124M',\n",
        "              steps=200,\n",
        "              restore_from='fresh',\n",
        "              run_name='run1', \n",
        "              print_every=10,\n",
        "              sample_every=200,\n",
        "              learning_rate=0.00001,\n",
        "              save_every=500\n",
        "              )"
      ]
    },
    {
      "cell_type": "code",
      "execution_count": 27,
      "metadata": {
        "id": "5Y0YSbc_-_KM",
        "colab": {
          "base_uri": "https://localhost:8080/"
        },
        "outputId": "b5fbf748-cc7b-416b-dad4-58d2941a6d75"
      },
      "outputs": [
        {
          "output_type": "stream",
          "name": "stdout",
          "text": [
            "\"He said, 'We're in luck.'\" ―Luke and Leia [src]\n",
            "\n",
            "\"Heavenly Empire\" was the twentieth episode of the first season of Star Wars. It first aired on December 1, 2007, and was the twenty-ninth episode of the first season of the Star Wars Rebels television series. It was the twenty-ninth episode of the second season of the Star Wars Rebels television series.\n",
            "\n",
            "Contents show]\n",
            "\n",
            "Summary\n",
            "\n",
            "\"And what of Princess Leia?\"\n",
            "\n",
            "\"She's been taken to the far side of the Force and is being held there by a droid named 'The Hutt.'\"\n",
            "\n",
            "\"Yes? Why do you do that?\"\n",
            "\n",
            "\"I think it's because of the nature of the Force. I've known the Force for some time. When I looked up, the dark side of the Force was with me. I was young and insignificant. I was the most powerful of my kind. Now I am the most powerful of the Force fighters. I have no right to sit there and wait for it to change me. I'm not strong enough to fight alone. I'm weak enough to use the Force.\"\n",
            "\n",
            "\"That's right. You're too\n",
            "====================\n",
            "\"You're the only one in here!\"\n",
            "\"67\" \"THREEPIO\" \"It's over! You were a hero!\"\n",
            "\"68\" \"THREEPIO\" \"I know. But I can't let you go.\"\n",
            "\"69\" \"THREEPIO\" \"But...but you're going to have to pay me?\"\n",
            "\"70\" \"THREEPIO\" \"You're the only one I have to pay!\"\n",
            "\"71\" \"THREEPIO\" \"You're right, I'm afraid you're the only one that's worth paying.\"\n",
            "\"72\" \"THREEPIO\" \"I've been asking you. You're not going to get it. You're going to go home.\"\n",
            "\"73\" \"THREEPIO\" \"Well, I'm not going home. I'm going to jail. I'm going to the moon. I'm going to the moon. That's all.\"\n",
            "\"74\" \"THREEPIO\" \"Don't worry, I'm going to the moon.\"\n",
            "\"75\" \"THREEPIO\" \"And I'm going to the moon. You're going to the moon. That's all.\n",
            "====================\n",
            "\"I'm sorry, sir. I'm sorry.\"\n",
            "\"276\" \"LUKE\" \"I don't know what you're talking about.\"\n",
            "\"277\" \"TARKIN\" \"I don't know what you're talking about.\"\n",
            "\"278\" \"LUKE\" \"I don't know...I don't know.\"\n",
            "\"279\" \"TARKIN\" \"If you don't like me. Don't tell anyone about it.\"\n",
            "\"280\" \"LUKE\" \"I don't know what you're talking about.\"\n",
            "\"281\" \"TARKIN\" \"If you don't like me. Don't tell anyone about it. Give me a minute.\"\n",
            "\"282\" \"THREEPIO\" \"No, sir, I'm not going to give you a minute.\"\n",
            "\"283\" \"THREEPIO\" \"I don't know if I'm crazy, or if I'm just trying to keep you from making any progress.\"\n",
            "\"284\" \"THREEPIO\" \"Don't be too big of a fool.\"\n",
            "\"285\" \"THREEPIO\" \"I knew you'd come back.\"\n",
            "\"286\" \"THREEPIO\" \"You\n",
            "====================\n",
            "\"I don't like this place. It's too crowded. The only way I can stay is by going to the main street.\"\n",
            "\"213\" \"THREEPIO\" \"I've got to get out of here early. I've got to go back to the main street.\"\n",
            "\"214\" \"THREEPIO\" \"But you've got to go back, you stupid thing! You can't go back to the main street.\"\n",
            "\"215\" \"LUKE\" \"I know. Okay, then. You come back, will you?\"\n",
            "\"216\" \"HAN\" \"I'll be back.\"\n",
            "\"217\" \"LEIA\" \"Will you come with me?\"\n",
            "\"218\" \"LUKE\" \"I'm looking forward to it.\"\n",
            "\"219\" \"HAN\" \"You can't leave him. He has to go.\"\n",
            "\"220\" \"LEIA\" \"I'll be back.\"\n",
            "\"221\" \"LUKE\" \"I've got to go.\"\n",
            "\"222\" \"HAN\" \"I can't wait to see you.\"\n",
            "\"223\" \"LEIA\" \"Luke.\"\n",
            "\"224\" \"LUKE\" \"I've got to\n",
            "====================\n",
            "\" \"You're a pretty good fighter...but you're not a fighter of steel.\"\n",
            "\" \"T-That's not true!\"\n",
            "\" \" \"HAN\" \"I'm not a fighter!\"\n",
            "\" \"\" \"THREEPIO\" \"I'll give it to you, Han, if you can make me pay for it.\"\n",
            "\" \"LUKE\" \"I'll give it to you!\"\n",
            "\" \"LUKE\" \"I know you're a Jedi, but you're not a Jedi.\"\n",
            "\" \"LUKE\" \"You're not a Jedi!\"\n",
            "\" \"LUKE\" \"I'm a Jedi.\"\n",
            "\" \"LUKE\" \"I'm a Jedi.\"\n",
            "\" \"LUKE\" \"I'm a Jedi.\"\n",
            "\" \"LUKE\" \"I'm a Jedi.\"\n",
            "\" \"LUKE\" \"I'm a Jedi.\"\n",
            "\" \"LUKE\" \"I'm a Jedi.\"\n",
            "\" \"LUKE\" \"I'm a Jedi.\"\n",
            "\" \"LUKE\" \"I'm a Jedi.\"\n",
            "\" \"LUKE\" \"I'm a Jedi.\"\n",
            "\" \"LUKE\" \"I'm a Jedi.\"\n",
            "\" \"LUKE\" \"I'm a Jedi\n",
            "====================\n"
          ]
        }
      ],
      "source": [
        "gpt2.generate(sess,\n",
        "              length= 250,\n",
        "              temperature= 0.7,\n",
        "              include_prefix= False,\n",
        "              nsamples= 5,\n",
        "              batch_size= 5,\n",
        "              top_k= 40)"
      ]
    },
    {
      "cell_type": "code",
      "execution_count": null,
      "metadata": {
        "id": "uhuvvHbU---O"
      },
      "outputs": [],
      "source": []
    },
    {
      "cell_type": "markdown",
      "metadata": {
        "id": "0clU3rdaD8Cr"
      },
      "source": [
        "# New Section"
      ]
    }
  ],
  "metadata": {
    "colab": {
      "provenance": [],
      "authorship_tag": "ABX9TyM8fXZapw+TFSw9eOlz3PJU",
      "include_colab_link": true
    },
    "kernelspec": {
      "display_name": "Python 3",
      "name": "python3"
    },
    "language_info": {
      "name": "python"
    },
    "accelerator": "GPU",
    "gpuClass": "standard"
  },
  "nbformat": 4,
  "nbformat_minor": 0
}